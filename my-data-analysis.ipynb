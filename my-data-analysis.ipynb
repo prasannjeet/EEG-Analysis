{
 "cells": [
  {
   "cell_type": "code",
   "execution_count": 3,
   "metadata": {},
   "outputs": [
    {
     "data": {
      "text/html": [
       "        <script type=\"text/javascript\">\n",
       "        window.PlotlyConfig = {MathJaxConfig: 'local'};\n",
       "        if (window.MathJax && window.MathJax.Hub && window.MathJax.Hub.Config) {window.MathJax.Hub.Config({SVG: {font: \"STIX-Web\"}});}\n",
       "        if (typeof require !== 'undefined') {\n",
       "        require.undef(\"plotly\");\n",
       "        requirejs.config({\n",
       "            paths: {\n",
       "                'plotly': ['https://cdn.plot.ly/plotly-2.18.0.min']\n",
       "            }\n",
       "        });\n",
       "        require(['plotly'], function(Plotly) {\n",
       "            window._Plotly = Plotly;\n",
       "        });\n",
       "        }\n",
       "        </script>\n",
       "        "
      ]
     },
     "metadata": {},
     "output_type": "display_data"
    }
   ],
   "source": [
    "import numpy as np\n",
    "import pandas as pd\n",
    "import os\n",
    "import random\n",
    "from tqdm import tqdm\n",
    "import matplotlib\n",
    "import seaborn as sns\n",
    "import matplotlib.pyplot as plt\n",
    "import plotly.graph_objs as go\n",
    "from plotly.offline import init_notebook_mode, iplot\n",
    "from plotly import tools\n",
    "from scipy.stats import mannwhitneyu\n",
    "from pathlib import Path\n",
    "import chardet\n",
    "# Ignore all warnings\n",
    "import warnings\n",
    "# warnings.filterwarnings('ignore')\n",
    "\n",
    "init_notebook_mode(connected=True) ## plotly init\n",
    "seed = 123\n",
    "random.seed = seed"
   ]
  },
  {
   "cell_type": "code",
   "execution_count": 4,
   "metadata": {
    "pycharm": {
     "is_executing": true
    }
   },
   "outputs": [
    {
     "name": "stdout",
     "output_type": "stream",
     "text": [
      "Total amount of files in SMNI_CMI_TRAIN directory: 481\n"
     ]
    }
   ],
   "source": [
    "print('Total amount of files in SMNI_CMI_TRAIN directory: ' + str(len(os.listdir('dataset/'))))"
   ]
  },
  {
   "cell_type": "code",
   "execution_count": 5,
   "metadata": {
    "pycharm": {
     "is_executing": true
    }
   },
   "outputs": [
    {
     "name": "stderr",
     "output_type": "stream",
     "text": [
      "100%|██████████| 481/481 [03:50<00:00,  2.08it/s]\n"
     ]
    }
   ],
   "source": [
    "filenames_list = os.listdir('dataset/') ## list of file names in the directory\n",
    "EEG_data = pd.DataFrame({}) ## create an empty df that will hold data from each file\n",
    "\n",
    "for file_name in tqdm(filenames_list):\n",
    "    detected = chardet.detect(Path(\"dataset/\" + file_name).read_bytes())\n",
    "    encoding = detected.get(\"encoding\")\n",
    "    assert encoding, \"Unable to detect encoding, is it a binary file?\"\n",
    "    temp_df = pd.read_csv('dataset/' + file_name, encoding=encoding) ## read from the file to df\n",
    "    # EEG_data = EEG_data.append(temp_df) ## add the file data to the main df\n",
    "    # replace frame.append with pd.concat([frame, temp_df]) if you have pandas version < 0.23\n",
    "    EEG_data = pd.concat([EEG_data, temp_df], ignore_index=True) ## add the file data to the main df\n",
    "\n",
    "EEG_data = EEG_data.drop(['Unnamed: 0'], axis=1) ## remove the unused column\n",
    "EEG_data.loc[EEG_data['matching condition'] == 'S2 nomatch,', 'matching condition'] =  'S2 nomatch' ## remove comma sign from stimulus name"
   ]
  },
  {
   "cell_type": "code",
   "execution_count": null,
   "metadata": {},
   "outputs": [],
   "source": []
  }
 ],
 "metadata": {
  "kernelspec": {
   "display_name": "Python 3 (ipykernel)",
   "language": "python",
   "name": "python3"
  },
  "language_info": {
   "codemirror_mode": {
    "name": "ipython",
    "version": 3
   },
   "file_extension": ".py",
   "mimetype": "text/x-python",
   "name": "python",
   "nbconvert_exporter": "python",
   "pygments_lexer": "ipython3",
   "version": "3.9.6"
  }
 },
 "nbformat": 4,
 "nbformat_minor": 1
}
